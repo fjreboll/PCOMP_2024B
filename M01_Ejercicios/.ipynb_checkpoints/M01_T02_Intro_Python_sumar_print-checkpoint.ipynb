{
 "cells": [
  {
   "cell_type": "markdown",
   "metadata": {},
   "source": [
    "# M01_E02_PRINT_SUMAR\n",
    "\n",
    "### PENSAMIENTO COMPUTACIONAL 2024-B\n",
    "\n",
    "* Prof. Ricardo Vega M. - Escuela de Diseño Universidad Católica de Chile - 2024.  \n"
   ]
  },
  {
   "cell_type": "markdown",
   "metadata": {},
   "source": [
    "En la tarea de esta semana, veremos dos cosas principales:\n",
    "\n",
    "* 1- Uso de la función print()\n",
    "* 2- Sumar y concatenar valores.   \n"
   ]
  },
  {
   "cell_type": "markdown",
   "metadata": {},
   "source": [
    "## 1– Print Nombre o Apellido.  \n",
    "\n",
    "**Sobre la funcion print()**  \n",
    "\n",
    "La funcion print() sirve para mostrar valores en la consola que aparece bajo de cada celdita. Sirve para comprobar si los valores que tenemos son lo que esperamos. Para esto se pone dentro de los paréntesis el valor de la variable a mostrar, algo así:\n",
    "\n",
    "a = 2  # la variable a con valor 2  \n",
    "print( a )  # mostrara el valor de a\n",
    "\n",
    "**Descripción Parte 1 de la tarea**  \n",
    "\n",
    "En esta tarea deberá mostrar su nombre o apellido usando un símbolo para dibujar cada parte de las letras (&, %, $, #, \", *, X, etc, son tipo string). En cada línea debera dibujar los elementos del cada letra. Puede realizarlo directamente en el print o usando variables. Esto le ayudará a familiarizarse en el uso la funcion print concatenando valores simples. \n"
   ]
  },
  {
   "cell_type": "code",
   "execution_count": 7,
   "metadata": {},
   "outputs": [
    {
     "name": "stdout",
     "output_type": "stream",
     "text": [
      "*   * *****  **** *****\n",
      "*   * *     *     *   *\n",
      "*   * ***** *  ** *****\n",
      " * *  *     *   * *   *\n",
      "  *   *****  ***  *   *\n"
     ]
    }
   ],
   "source": [
    "## 1- Ejemplo \n",
    "## Ejemplo 1A\n",
    "## Variables con las formas de cada letra.  \n",
    "a = \"*   * *****  **** *****\" \n",
    "b = \"*   * *     *     *   *\" \n",
    "c = \"*   * ***** *  ** *****\" \n",
    "d = \" * *  *     *   * *   *\" \n",
    "e = \"  *   *****  ***  *   *\" \n",
    "\n",
    "## Ejemplo 1B\n",
    "## Uso de función print() para mostrar en consola...\n",
    "print( a ) \n",
    "print( b ) \n",
    "print( c ) \n",
    "print( d ) \n",
    "print( e ) \n"
   ]
  },
  {
   "cell_type": "markdown",
   "metadata": {},
   "source": [
    "## 1A- Variables (1 punto). "
   ]
  },
  {
   "cell_type": "code",
   "execution_count": null,
   "metadata": {},
   "outputs": [],
   "source": [
    "## Su respúesta desde aca."
   ]
  },
  {
   "cell_type": "code",
   "execution_count": null,
   "metadata": {},
   "outputs": [],
   "source": []
  },
  {
   "cell_type": "code",
   "execution_count": null,
   "metadata": {},
   "outputs": [],
   "source": []
  },
  {
   "cell_type": "markdown",
   "metadata": {},
   "source": [
    "## 1B- Print (1 punto).    "
   ]
  },
  {
   "cell_type": "code",
   "execution_count": null,
   "metadata": {},
   "outputs": [],
   "source": [
    "## Su respuesta desde acá. "
   ]
  },
  {
   "cell_type": "code",
   "execution_count": null,
   "metadata": {},
   "outputs": [],
   "source": []
  },
  {
   "cell_type": "code",
   "execution_count": null,
   "metadata": {},
   "outputs": [],
   "source": []
  },
  {
   "cell_type": "markdown",
   "metadata": {},
   "source": [
    "## 2– Sumatoria.  \n",
    "\n",
    "**Sobre la sumatoria**  \n",
    "\n",
    "Una sumatoria es simplemente sumar valores de una lista, que puede ser corta o muy grande. Sumar 2 + 2 es fácil de anotar. Pero como anotar la suma de todos los números pares? Para esto se usa la notación sigma ( ∑ letra griega en mayúscula ). Es una notación muy usada, entonces cuando les aparezca por ahí, ya sabrán de que se trata.\n",
    "\n",
    "Para esta tarea deberan hacer lo siguiente (no se asusten, es solo la notación matemática para describir lo que haremos). Se lee \"Sumar todos los valores de 0 a n, siendo n la cantidad de valores del conjunto\":\n",
    "\n",
    "\\begin{align}\n",
    "sumanumrut = \\sum_{i=0}^n \n",
    "\\end{align}\n",
    "\n",
    "\n",
    "**Descripción Parte 2 de la tarea**  \n",
    "\n",
    "Usando sus números de carnet, sumar todos los números. Para esto deberá primero (2A) crear una variable por cada numero, y luego en sumarlos en una variable para el total, e imprimirlo en pantalla con un print.  \n",
    "\n",
    "Luego (2B), hacer lo mismo (sumar números de carnet) pero colocando los valores en un array. Para sumarlos crear una variable donde se va acumulando la suma. La suma se debe hacer con un ciclo for. Luego en primera por pantalla el resultado\n"
   ]
  },
  {
   "cell_type": "code",
   "execution_count": 22,
   "metadata": {},
   "outputs": [
    {
     "name": "stdout",
     "output_type": "stream",
     "text": [
      "A- La suma es: 30\n"
     ]
    }
   ],
   "source": [
    "## 2- Ejemplos \n",
    "## Ejemplo 2A\n",
    "## Variables para fuiguardar cada numero del rut\n",
    "r01 = 1\n",
    "r02 = 0\n",
    "r03 = 2\n",
    "r04 = 3\n",
    "r05 = 5\n",
    "r06 = 0\n",
    "r07 = 2\n",
    "r08 = 8\n",
    "r09 = 9\n",
    "\n",
    "tot_a = r01 + r02 + r03 + r04 + r05 + r06 + r07 + r08 + r09 # suma de los valores\n",
    "print( \"A- La suma es:\", tot_a )\n"
   ]
  },
  {
   "cell_type": "code",
   "execution_count": 19,
   "metadata": {},
   "outputs": [
    {
     "name": "stdout",
     "output_type": "stream",
     "text": [
      "B- La suma es: 30\n"
     ]
    }
   ],
   "source": [
    "## Ejemplo 2B\n",
    "rut = [1, 0, 2, 3, 5, 0, 2, 8, 9] # lista con todos los valores\n",
    "tot_b = 0 # variable acumuladora empieza en cero\n",
    "\n",
    "for i in range( len( rut ) ): \n",
    "    tot_b = tot_b + rut[i]\n",
    "\n",
    "print( \"B- La suma es:\", tot_b )"
   ]
  },
  {
   "cell_type": "markdown",
   "metadata": {},
   "source": [
    "## 2A- Sumar desde variables (1 punto). "
   ]
  },
  {
   "cell_type": "code",
   "execution_count": 20,
   "metadata": {},
   "outputs": [],
   "source": [
    "## Su respuesta desde acá. "
   ]
  },
  {
   "cell_type": "code",
   "execution_count": null,
   "metadata": {},
   "outputs": [],
   "source": []
  },
  {
   "cell_type": "markdown",
   "metadata": {},
   "source": [
    "## 2B- Sumar desde lista (1 punto). "
   ]
  },
  {
   "cell_type": "code",
   "execution_count": 21,
   "metadata": {},
   "outputs": [],
   "source": [
    "## Su respuesta desde acá. "
   ]
  },
  {
   "cell_type": "code",
   "execution_count": null,
   "metadata": {},
   "outputs": [],
   "source": []
  }
 ],
 "metadata": {
  "kernelspec": {
   "display_name": "Python 3 (ipykernel)",
   "language": "python",
   "name": "python3"
  },
  "language_info": {
   "codemirror_mode": {
    "name": "ipython",
    "version": 3
   },
   "file_extension": ".py",
   "mimetype": "text/x-python",
   "name": "python",
   "nbconvert_exporter": "python",
   "pygments_lexer": "ipython3",
   "version": "3.9.13"
  }
 },
 "nbformat": 4,
 "nbformat_minor": 2
}
